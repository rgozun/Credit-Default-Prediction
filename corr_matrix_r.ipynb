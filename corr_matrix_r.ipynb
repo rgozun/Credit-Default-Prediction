{
  "nbformat": 4,
  "nbformat_minor": 0,
  "metadata": {
    "colab": {
      "name": "corr_matrix.r",
      "provenance": [],
      "collapsed_sections": [],
      "authorship_tag": "ABX9TyOlemEFDVATZIbb1T3xp1Fp",
      "include_colab_link": true
    },
    "kernelspec": {
      "name": "ir",
      "display_name": "R"
    }
  },
  "cells": [
    {
      "cell_type": "markdown",
      "metadata": {
        "id": "view-in-github",
        "colab_type": "text"
      },
      "source": [
        "<a href=\"https://colab.research.google.com/github/rgozun/Credit-Default-Prediction/blob/main/corr_matrix_r.ipynb\" target=\"_parent\"><img src=\"https://colab.research.google.com/assets/colab-badge.svg\" alt=\"Open In Colab\"/></a>"
      ]
    },
    {
      "cell_type": "code",
      "metadata": {
        "colab": {
          "base_uri": "https://localhost:8080/",
          "height": 126
        },
        "id": "cIWMKpIY0zhJ",
        "outputId": "07f4e8ce-f1e3-421b-b3f5-f7c39a6e2ccf"
      },
      "source": [
        "# install.packages(\"googledrive\")\r\n",
        "library('googledrive')\r\n",
        "setwd('/content/drive/My\\ Drive/Colab Notebooks/UCI Credit Default')"
      ],
      "execution_count": 8,
      "outputs": [
        {
          "output_type": "error",
          "ename": "ERROR",
          "evalue": "ignored",
          "traceback": [
            "Error in setwd(\"~/Desktop/r-novice-inflammation/\"): cannot change working directory\nTraceback:\n",
            "1. setwd(\"~/Desktop/r-novice-inflammation/\")"
          ]
        }
      ]
    },
    {
      "cell_type": "code",
      "metadata": {
        "colab": {
          "base_uri": "https://localhost:8080/",
          "height": 33
        },
        "id": "mNUAqL7x28Z6",
        "outputId": "7d0f6491-4689-4cf3-cb41-71baa1db3a2d"
      },
      "source": [
        "getwd()"
      ],
      "execution_count": 9,
      "outputs": [
        {
          "output_type": "display_data",
          "data": {
            "text/plain": [
              "[1] \"/content\""
            ],
            "text/latex": "'/content'",
            "text/markdown": "'/content'",
            "text/html": [
              "'/content'"
            ]
          },
          "metadata": {
            "tags": []
          }
        }
      ]
    }
  ]
}